{
 "cells": [
  {
   "cell_type": "markdown",
   "id": "e9f7a8b4",
   "metadata": {},
   "source": [
    "Charlene Wolthers"
   ]
  },
  {
   "cell_type": "markdown",
   "id": "6225c62f",
   "metadata": {},
   "source": [
    "Student ID: 900781847"
   ]
  },
  {
   "cell_type": "markdown",
   "id": "42de96e5",
   "metadata": {},
   "source": [
    "c.wolthers1847@student.nu.edu"
   ]
  },
  {
   "cell_type": "markdown",
   "id": "4ac56fd7",
   "metadata": {},
   "source": [
    "# Project"
   ]
  },
  {
   "cell_type": "code",
   "execution_count": 2,
   "id": "fc69553a",
   "metadata": {},
   "outputs": [],
   "source": [
    "from pathlib import Path\n",
    "import math\n",
    "\n",
    "import numpy as np\n",
    "import pandas as pd\n",
    "from sklearn.model_selection import train_test_split\n",
    "from sklearn.linear_model import LogisticRegression, LogisticRegressionCV\n",
    "from sklearn.metrics import accuracy_score\n",
    "\n",
    "import matplotlib.pylab as plt\n",
    "\n",
    "from dmba import classificationSummary\n",
    "from dmba import AIC_score\n",
    "from dmba import backward_elimination, forward_selection, stepwise_selection\n",
    "\n",
    "%matplotlib inline\n",
    "\n",
    "%matplotlib inline\n",
    "\n",
    "from pathlib import Path\n",
    "\n",
    "import seaborn as sns\n",
    "\n",
    "import pandas as pd\n",
    "import numpy as np\n",
    "from sklearn.tree import DecisionTreeClassifier, DecisionTreeRegressor\n",
    "from sklearn.ensemble import RandomForestClassifier, GradientBoostingClassifier\n",
    "from sklearn.model_selection import train_test_split, cross_val_score, GridSearchCV\n",
    "import matplotlib.pylab as plt\n",
    "import dmba\n",
    "from dmba import plotDecisionTree, classificationSummary, regressionSummary"
   ]
  },
  {
   "cell_type": "code",
   "execution_count": null,
   "id": "a6f6e8d4",
   "metadata": {},
   "outputs": [],
   "source": [
    "lcd_df = pd.read_csv(DATA / 'lending_club.csv')\n",
    "lcd_df.head()"
   ]
  },
  {
   "cell_type": "code",
   "execution_count": null,
   "id": "20e765e9",
   "metadata": {},
   "outputs": [],
   "source": [
    "lcd_df.rename(columns={\"Unnamed: 0\": \"loan_id\"}, inplace=True)"
   ]
  },
  {
   "cell_type": "code",
   "execution_count": null,
   "id": "e2b2b4f7",
   "metadata": {},
   "outputs": [],
   "source": [
    "lcd_df.columns"
   ]
  },
  {
   "cell_type": "code",
   "execution_count": null,
   "id": "bc8e4f87",
   "metadata": {},
   "outputs": [],
   "source": [
    "lcd_df.columns = [c.replace(' ', '_') for c in lcd_df.columns]\n",
    "lcd_df.columns = [c.replace('&', '') for c in lcd_df.columns]\n",
    "lcd_df.columns = [c.replace('/', '_') for c in lcd_df.columns]"
   ]
  },
  {
   "cell_type": "code",
   "execution_count": null,
   "id": "43b2016a",
   "metadata": {},
   "outputs": [],
   "source": [
    "pd.set_option('display.max_columns', None)"
   ]
  },
  {
   "cell_type": "code",
   "execution_count": null,
   "id": "f1954f3a",
   "metadata": {},
   "outputs": [],
   "source": [
    "lcd_df.columns"
   ]
  },
  {
   "cell_type": "code",
   "execution_count": null,
   "id": "ac59d0ed",
   "metadata": {},
   "outputs": [],
   "source": [
    "lcd_df.shape"
   ]
  },
  {
   "cell_type": "code",
   "execution_count": null,
   "id": "200e1b39",
   "metadata": {},
   "outputs": [],
   "source": [
    "lcd_df.describe    "
   ]
  },
  {
   "cell_type": "code",
   "execution_count": null,
   "id": "7bfa0a27",
   "metadata": {},
   "outputs": [],
   "source": [
    "sns.heatmap(lcd_df.corr());"
   ]
  },
  {
   "cell_type": "code",
   "execution_count": null,
   "id": "37ee729a",
   "metadata": {},
   "outputs": [],
   "source": [
    "lcd_df['charge_off'] = np.where(lcd_df['loan_status'] == 'Charged Off', 1, 0)\n",
    "print(lcd_df)"
   ]
  },
  {
   "cell_type": "code",
   "execution_count": null,
   "id": "a7fb62a9",
   "metadata": {},
   "outputs": [],
   "source": [
    "summary_stats = lcd_df[['charge_off']].describe()\n",
    "print(\"\\nSummary statistics:\")\n",
    "print(summary_stats)"
   ]
  },
  {
   "cell_type": "code",
   "execution_count": null,
   "id": "c4a76c22",
   "metadata": {},
   "outputs": [],
   "source": [
    "na_count = lcd_df.isna().sum()\n",
    "print(na_count)"
   ]
  },
  {
   "cell_type": "code",
   "execution_count": null,
   "id": "7f37fa3e",
   "metadata": {},
   "outputs": [],
   "source": [
    "column_data_types = lcd_df.dtypes\n",
    "print(column_data_types)"
   ]
  },
  {
   "cell_type": "code",
   "execution_count": null,
   "id": "3e6183d5",
   "metadata": {},
   "outputs": [],
   "source": [
    "lcd_df['annual_inc'].fillna(lcd_df['annual_inc'].median(), inplace=True)\n",
    "lcd_df['dti'].fillna(lcd_df['dti'].median(), inplace=True)\n",
    "lcd_df['delinq_2yrs'].fillna(lcd_df['delinq_2yrs'].median(), inplace=True)\n",
    "lcd_df['fico_range_low'].fillna(lcd_df['fico_range_low'].median(), inplace=True)\n",
    "lcd_df['inq_last_6mths'].fillna(lcd_df['inq_last_6mths'].median(), inplace=True)\n",
    "lcd_df['mths_since_last_delinq'].fillna(lcd_df['mths_since_last_delinq'].median(), inplace=True)\n",
    "lcd_df['open_acc'].fillna(lcd_df['open_acc'].median(), inplace=True)\n",
    "lcd_df['revol_bal'].fillna(lcd_df['revol_bal'].median(), inplace=True)\n",
    "lcd_df['revol_util'].fillna(lcd_df['revol_util'].median(), inplace=True)\n",
    "lcd_df['total_acc'].fillna(lcd_df['total_acc'].median(), inplace=True)"
   ]
  },
  {
   "cell_type": "code",
   "execution_count": null,
   "id": "a816a92c",
   "metadata": {},
   "outputs": [],
   "source": [
    "na_count = lcd_df.isna().sum()\n",
    "print(na_count)"
   ]
  },
  {
   "cell_type": "code",
   "execution_count": null,
   "id": "438cf1a8",
   "metadata": {},
   "outputs": [],
   "source": [
    "X = lcd_df.drop(columns=['charge_off', 'loan_status', 'loan_id', 'fico_range_high',])\n",
    "y = lcd_df['charge_off']\n",
    "train_X, valid_X, train_y, valid_y = train_test_split(X, y, test_size=0.4, random_state=1)\n",
    "\n",
    "fullClassTree = DecisionTreeClassifier (max_depth=100)\n",
    "fullClassTree.fit(train_X, train_y)\n",
    "\n",
    "plotDecisionTree(fullClassTree, feature_names=train_X.columns)"
   ]
  },
  {
   "cell_type": "code",
   "execution_count": null,
   "id": "44044ec6",
   "metadata": {},
   "outputs": [],
   "source": [
    "classificationSummary(train_y, fullClassTree.predict(train_X))\n",
    "classificationSummary(valid_y, fullClassTree.predict(valid_X))"
   ]
  },
  {
   "cell_type": "code",
   "execution_count": null,
   "id": "14d1a579",
   "metadata": {},
   "outputs": [],
   "source": [
    "import pandas as pd\n",
    "import numpy as np\n",
    "from sklearn.ensemble import RandomForestClassifier\n",
    "from sklearn.model_selection import train_test_split\n",
    " \n",
    "\n",
    "num_estimators = 5 \n",
    "random_forest_model = RandomForestClassifier(n_estimators=num_estimators, random_state=1)\n",
    "\n",
    "\n",
    "random_forest_model.fit(train_X, train_y)\n",
    "\n",
    "\n",
    "from sklearn.metrics import accuracy_score, precision_score, recall_score\n",
    "\n",
    "\n",
    "valid_predictions = random_forest_model.predict(valid_X)\n",
    "\n",
    "accuracy = accuracy_score(valid_y, valid_predictions)\n",
    "precision = precision_score(valid_y, valid_predictions)\n",
    "recall = recall_score(valid_y, valid_predictions)\n",
    "print(f\"Accuracy: {accuracy:.2f}\")\n",
    "print(f\"Precision: {precision:.2f}\")\n",
    "print(f\"Recall: {recall:.2f}\")\n",
    "\n",
    "\n",
    "\n",
    "single_tree = random_forest_model.estimators_[0]\n",
    "\n",
    "\n",
    "plotDecisionTree(single_tree, feature_names=train_X.columns)"
   ]
  },
  {
   "cell_type": "markdown",
   "id": "63731c55",
   "metadata": {},
   "source": [
    "# Write-Up"
   ]
  },
  {
   "cell_type": "markdown",
   "id": "f62bd1bd",
   "metadata": {},
   "source": [
    "The data exploration revealed several correlations among the variables. Notably:\n",
    "\n",
    "Certain financial metrics like FICO scores, revolving balance, and the number of open accounts showed significant interrelations, which were depicted in the correlation heatmap.\n",
    "\n",
    "The summary statistics grouped by loan status indicated variations in financial behaviors and outcomes across different categories of loan repayment status."
   ]
  },
  {
   "cell_type": "markdown",
   "id": "3734a736",
   "metadata": {},
   "source": [
    "Two predictive models were developed:\n",
    "\n",
    "Decision Tree Classifier:\n",
    "\n",
    "Configured with a maximum depth to handle complex interactions in the data.\n",
    "Performance on the validation set indicated an accuracy of 88.3% and 87.12%, which suggests the model is relatively stable and performs well on unseen data.\n",
    "\n",
    "Random Forest Classifier:\n",
    "\n",
    "Comprised of multiple decision trees to improve predictive accuracy and control over-fitting.\n",
    "The model achieved an accuracy of 85%, precision of 16%, and a recall of 5%. These metrics, especially the low recall and precision, suggest that while the model is generally accurate, it struggles with correctly identifying the positive class (charge-offs)."
   ]
  },
  {
   "cell_type": "markdown",
   "id": "d23fba02",
   "metadata": {},
   "source": [
    "Results\n",
    "\n",
    "The Decision Tree model demonstrated robust performance with high accuracy, suggesting it effectively captures the underlying patterns in the data without overfitting.\n",
    "The Random Forest model, while generally accurate, showed limitations in precision and recall. This implies it may not be as effective in identifying all true positive cases, which is crucial for predicting charge-offs."
   ]
  },
  {
   "cell_type": "markdown",
   "id": "ddd911e3",
   "metadata": {},
   "source": [
    "Recommendations\n",
    "\n",
    "Model Selection: The Decision Tree model is recommended for further use due to its higher overall accuracy and balance between precision and recall. Its simpler structure compared to the Random Forest also makes it more interpretable.\n",
    "\n",
    "Feature Engineering: Given the importance of certain variables like FICO scores and revolving balance, further feature engineering could enhance model performance. Developing more granular features that capture credit behavior over time might provide additional predictive power.\n",
    "\n",
    "Model Tuning: For the Random Forest model, adjustments to parameters such as the number of trees, max depth, and consideration of class weight could potentially improve precision and recall.\n",
    "\n",
    "Data Collection: More detailed data on borrower behavior, such as payment history and changes in financial status, could aid in developing more predictive features."
   ]
  }
 ],
 "metadata": {
  "kernelspec": {
   "display_name": "Python 3 (ipykernel)",
   "language": "python",
   "name": "python3"
  },
  "language_info": {
   "codemirror_mode": {
    "name": "ipython",
    "version": 3
   },
   "file_extension": ".py",
   "mimetype": "text/x-python",
   "name": "python",
   "nbconvert_exporter": "python",
   "pygments_lexer": "ipython3",
   "version": "3.11.7"
  }
 },
 "nbformat": 4,
 "nbformat_minor": 5
}
